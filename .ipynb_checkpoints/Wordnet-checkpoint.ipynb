{
 "cells": [
  {
   "cell_type": "markdown",
   "metadata": {},
   "source": [
    "# Wordnet sandbox\n",
    "\n",
    "## Setup\n",
    "\n",
    "Import Wordet, create a list of sample words, and examine their synsets"
   ]
  },
  {
   "cell_type": "code",
   "execution_count": 17,
   "metadata": {
    "collapsed": false
   },
   "outputs": [
    {
     "data": {
      "text/plain": [
       "[[Synset('panic.n.02'),\n",
       "  Synset('scare.n.02'),\n",
       "  Synset('frighten.v.01'),\n",
       "  Synset('daunt.v.01')],\n",
       " [Synset('ghost.n.01'),\n",
       "  Synset('ghostwriter.n.01'),\n",
       "  Synset('ghost.n.03'),\n",
       "  Synset('touch.n.03'),\n",
       "  Synset('ghost.v.01'),\n",
       "  Synset('haunt.v.02'),\n",
       "  Synset('ghost.v.03')],\n",
       " [Synset('fear.n.01'), Synset('frighten.v.01')],\n",
       " [Synset('creep.n.01'), Synset('ghost.n.01'), Synset('spook.v.01')],\n",
       " [Synset('koala.n.01')]]"
      ]
     },
     "execution_count": 17,
     "metadata": {},
     "output_type": "execute_result"
    }
   ],
   "source": [
    "from nltk.corpus import wordnet as wn\n",
    "# Assume 'scare' is a verb and the others are nouns\n",
    "words = ['scare', 'ghost', 'fright', 'spook', 'koala']\n",
    "synset_list =[wn.synsets(word) for word in words]\n",
    "synset_list"
   ]
  },
  {
   "cell_type": "markdown",
   "metadata": {},
   "source": [
    "## To choose the correct synset, get the definitions of each"
   ]
  },
  {
   "cell_type": "code",
   "execution_count": 18,
   "metadata": {
    "collapsed": false
   },
   "outputs": [
    {
     "name": "stdout",
     "output_type": "stream",
     "text": [
      "0 Synset('panic.n.02') sudden mass fear and anxiety over anticipated events\n",
      "0 Synset('scare.n.02') a sudden attack of fear\n",
      "0 Synset('frighten.v.01') cause fear in\n",
      "0 Synset('daunt.v.01') cause to lose courage\n",
      "1 Synset('ghost.n.01') a mental representation of some haunting experience\n",
      "1 Synset('ghostwriter.n.01') a writer who gives the credit of authorship to someone else\n",
      "1 Synset('ghost.n.03') the visible disembodied soul of a dead person\n",
      "1 Synset('touch.n.03') a suggestion of some quality\n",
      "1 Synset('ghost.v.01') move like a ghost\n",
      "1 Synset('haunt.v.02') haunt like a ghost; pursue\n",
      "1 Synset('ghost.v.03') write for someone else\n",
      "2 Synset('fear.n.01') an emotion experienced in anticipation of some specific pain or danger (usually accompanied by a desire to flee or fight)\n",
      "2 Synset('frighten.v.01') cause fear in\n",
      "3 Synset('creep.n.01') someone unpleasantly strange or eccentric\n",
      "3 Synset('ghost.n.01') a mental representation of some haunting experience\n",
      "3 Synset('spook.v.01') frighten or scare, and often provoke into a violent action\n",
      "4 Synset('koala.n.01') sluggish tailless Australian arboreal marsupial with grey furry ears and coat; feeds on eucalyptus leaves and bark\n"
     ]
    }
   ],
   "source": [
    "for i in range(len(synset_list)):\n",
    "    [print(i, item, item.definition()) for item in synset_list[i]]"
   ]
  },
  {
   "cell_type": "markdown",
   "metadata": {},
   "source": [
    "## Choose the appropriate synset\n",
    "\n",
    "Examine the output and select the relevant synset for each word:\n",
    "\n",
    "Word   | Synset\n",
    "------ | ------\n",
    "scare  | Synset('frighten.v.01')\n",
    "ghost  | Synset('ghost.n.03')\n",
    "fright | Synset('fear.n.01')\n",
    "spook  | Synset('ghost.n.01')\n",
    "koala  | Synset('koala.n.01')"
   ]
  },
  {
   "cell_type": "markdown",
   "metadata": {},
   "source": [
    "## Set a variable equal to each synset of interest"
   ]
  },
  {
   "cell_type": "code",
   "execution_count": 19,
   "metadata": {
    "collapsed": false
   },
   "outputs": [],
   "source": [
    "scare_synset = wn.synset('frighten.v.01')\n",
    "ghost_synset = wn.synset('ghost.n.03')\n",
    "fright_synset = wn.synset('fear.n.01')\n",
    "spook_synset = wn.synset('ghost.n.01')\n",
    "koala_synset = wn.synset('koala.n.01')"
   ]
  },
  {
   "cell_type": "markdown",
   "metadata": {},
   "source": [
    "## Examine the lemmata for each synset\n",
    "\n",
    "This is just for curiosity; we won't use it for processing"
   ]
  },
  {
   "cell_type": "code",
   "execution_count": 20,
   "metadata": {
    "collapsed": false
   },
   "outputs": [
    {
     "name": "stdout",
     "output_type": "stream",
     "text": [
      "0 ['frighten', 'fright', 'scare', 'affright']\n",
      "1 ['ghost']\n",
      "2 ['fear', 'fearfulness', 'fright']\n",
      "3 ['ghost', 'shade', 'spook', 'wraith', 'specter', 'spectre']\n",
      "4 ['koala', 'koala_bear', 'kangaroo_bear', 'native_bear', 'Phascolarctos_cinereus']\n"
     ]
    }
   ],
   "source": [
    "synset_list = [scare_synset, ghost_synset, fright_synset, spook_synset, koala_synset]\n",
    "for i in range(len(synset_list)):\n",
    "    print(i, [lemma.name() for lemma in synset_list[i].lemmas()])"
   ]
  },
  {
   "cell_type": "markdown",
   "metadata": {},
   "source": [
    "The similarity between a synset and itself is 1:"
   ]
  },
  {
   "cell_type": "code",
   "execution_count": 21,
   "metadata": {
    "collapsed": false
   },
   "outputs": [
    {
     "name": "stdout",
     "output_type": "stream",
     "text": [
      "1.0\n"
     ]
    }
   ],
   "source": [
    "print(scare_synset.path_similarity(scare_synset))"
   ]
  },
  {
   "cell_type": "markdown",
   "metadata": {},
   "source": [
    "Similarity is reciprocal:"
   ]
  },
  {
   "cell_type": "code",
   "execution_count": 22,
   "metadata": {
    "collapsed": false
   },
   "outputs": [
    {
     "name": "stdout",
     "output_type": "stream",
     "text": [
      "None\n",
      "0.08333333333333333\n"
     ]
    }
   ],
   "source": [
    "print(ghost_synset.path_similarity(scare_synset))\n",
    "print(scare_synset.path_similarity(ghost_synset))"
   ]
  },
  {
   "cell_type": "markdown",
   "metadata": {},
   "source": [
    "The similarity between any two synsets varies between 0 (maximally dissimilar) and 1. 'scare' and 'ghost' are dissimilar because they're different parts of speech:"
   ]
  },
  {
   "cell_type": "code",
   "execution_count": 23,
   "metadata": {
    "collapsed": false
   },
   "outputs": [
    {
     "name": "stdout",
     "output_type": "stream",
     "text": [
      "0.08333333333333333\n"
     ]
    }
   ],
   "source": [
    "print(scare_synset.path_similarity(ghost_synset))"
   ]
  },
  {
   "cell_type": "markdown",
   "metadata": {},
   "source": [
    "Among the nouns, 'ghost' and 'koala' are not very similar:"
   ]
  },
  {
   "cell_type": "code",
   "execution_count": 24,
   "metadata": {
    "collapsed": false
   },
   "outputs": [
    {
     "name": "stdout",
     "output_type": "stream",
     "text": [
      "0.05555555555555555\n"
     ]
    }
   ],
   "source": [
    "print(ghost_synset.path_similarity(koala_synset))"
   ]
  },
  {
   "cell_type": "markdown",
   "metadata": {},
   "source": [
    "While 'ghost' and 'spook' are more similar:"
   ]
  },
  {
   "cell_type": "code",
   "execution_count": 25,
   "metadata": {
    "collapsed": false
   },
   "outputs": [
    {
     "name": "stdout",
     "output_type": "stream",
     "text": [
      "0.0625\n"
     ]
    }
   ],
   "source": [
    "print(ghost_synset.path_similarity(spook_synset))"
   ]
  }
 ],
 "metadata": {
  "anaconda-cloud": {},
  "kernelspec": {
   "display_name": "Python [default]",
   "language": "python",
   "name": "python3"
  },
  "language_info": {
   "codemirror_mode": {
    "name": "ipython",
    "version": 3
   },
   "file_extension": ".py",
   "mimetype": "text/x-python",
   "name": "python",
   "nbconvert_exporter": "python",
   "pygments_lexer": "ipython3",
   "version": "3.5.2"
  }
 },
 "nbformat": 4,
 "nbformat_minor": 1
}
